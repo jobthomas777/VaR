{
  "nbformat": 4,
  "nbformat_minor": 0,
  "metadata": {
    "colab": {
      "provenance": []
    },
    "kernelspec": {
      "name": "python3",
      "display_name": "Python 3"
    },
    "language_info": {
      "name": "python"
    }
  },
  "cells": [
    {
      "cell_type": "code",
      "execution_count": 3,
      "metadata": {
        "colab": {
          "base_uri": "https://localhost:8080/"
        },
        "id": "tV_QZ39ZwrrY",
        "outputId": "39c539eb-14da-462b-9e81-8ce82b18dcda"
      },
      "outputs": [
        {
          "output_type": "stream",
          "name": "stderr",
          "text": [
            "/tmp/ipython-input-3-1421542742.py:11: FutureWarning: YF.download() has changed argument auto_adjust default to True\n",
            "  data = yf.download(symbol, start=start, end=end)\n",
            "\r[*********************100%***********************]  1 of 1 completed"
          ]
        },
        {
          "output_type": "stream",
          "name": "stdout",
          "text": [
            "10-Day Value at Risk (VaR) at 99% confidence level: $80.00\n"
          ]
        },
        {
          "output_type": "stream",
          "name": "stderr",
          "text": [
            "\n"
          ]
        }
      ],
      "source": [
        "import numpy as np\n",
        "import yfinance as yf\n",
        "from scipy.stats import norm\n",
        "import pandas as pd\n",
        "import datetime\n",
        "\n",
        "def fetch_closing_prices(symbol, start, end):\n",
        "    \"\"\"\n",
        "    Fetches daily closing prices for a given stock symbol.\n",
        "    \"\"\"\n",
        "    data = yf.download(symbol, start=start, end=end)\n",
        "    return data['Close']\n",
        "\n",
        "def compute_log_returns(prices):\n",
        "    \"\"\"\n",
        "    Computes daily logarithmic returns from price data.\n",
        "    \"\"\"\n",
        "    return np.log(prices / prices.shift(1)).dropna()\n",
        "\n",
        "def value_at_risk(position_size, confidence_level, mean_return, volatility):\n",
        "    \"\"\"\n",
        "    Calculates 1-day Value at Risk (VaR) using the normal distribution assumption.\n",
        "    \"\"\"\n",
        "    z_score = norm.ppf(1 - confidence_level)\n",
        "    return position_size * (mean_return - volatility * z_score)\n",
        "\n",
        "def value_at_risk_n_days(position_size, confidence_level, mean_return, volatility, days):\n",
        "    \"\"\"\n",
        "    Calculates multi-day VaR by scaling mean and volatility appropriately.\n",
        "    \"\"\"\n",
        "    z_score = norm.ppf(1 - confidence_level)\n",
        "    return position_size * (mean_return * days - volatility * np.sqrt(days) * z_score)\n",
        "\n",
        "if __name__ == '__main__':\n",
        "    # Step 1: Define parameters\n",
        "    stock_symbol = 'AAPL'\n",
        "    investment_amount = 500  # Portfolio value at risk\n",
        "    confidence = 0.99        # 99% confidence level\n",
        "    forecast_days = 10       # Predicting VaR over 10 days\n",
        "\n",
        "    # Step 2: Fetch data\n",
        "    start_date = datetime.datetime(2020, 1, 1)\n",
        "    end_date = datetime.datetime(2024, 4, 30)\n",
        "    prices = fetch_closing_prices(stock_symbol, start_date, end_date)\n",
        "\n",
        "    # Step 3: Calculate returns\n",
        "    returns = compute_log_returns(prices)\n",
        "\n",
        "    # Step 4: Estimate parameters (assume normality)\n",
        "    # Extract the scalar value from the pandas Series\n",
        "    mean_daily_return = returns.mean().item()\n",
        "    daily_volatility = returns.std().item()\n",
        "\n",
        "    # Step 5: Calculate and display VaR\n",
        "    # Extract the scalar value from the pandas Series\n",
        "    var = value_at_risk_n_days(investment_amount, confidence, mean_daily_return, daily_volatility, forecast_days)\n",
        "    print(f\"{forecast_days}-Day Value at Risk (VaR) at {int(confidence*100)}% confidence level: ${var:.2f}\")"
      ]
    }
  ]
}